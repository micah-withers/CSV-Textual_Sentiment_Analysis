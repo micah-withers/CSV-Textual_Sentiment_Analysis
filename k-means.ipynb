{
 "cells": [
  {
   "cell_type": "code",
   "execution_count": 1,
   "metadata": {},
   "outputs": [],
   "source": [
    "from sklearn.feature_extraction.text import TfidfVectorizer\n",
    "from sklearn.cluster import KMeans\n",
    "from sklearn.linear_model import LogisticRegression\n",
    "from sklearn.metrics import accuracy_score\n",
    "import pandas as pd\n",
    "from bs4 import BeautifulSoup\n",
    "import re\n",
    "import matplotlib.pyplot as plt"
   ]
  },
  {
   "cell_type": "code",
   "execution_count": 2,
   "metadata": {},
   "outputs": [
    {
     "data": {
      "text/html": [
       "<div>\n",
       "<style scoped>\n",
       "    .dataframe tbody tr th:only-of-type {\n",
       "        vertical-align: middle;\n",
       "    }\n",
       "\n",
       "    .dataframe tbody tr th {\n",
       "        vertical-align: top;\n",
       "    }\n",
       "\n",
       "    .dataframe thead th {\n",
       "        text-align: right;\n",
       "    }\n",
       "</style>\n",
       "<table border=\"1\" class=\"dataframe\">\n",
       "  <thead>\n",
       "    <tr style=\"text-align: right;\">\n",
       "      <th></th>\n",
       "      <th>msg_id</th>\n",
       "      <th>from_number</th>\n",
       "      <th>date_inserted</th>\n",
       "      <th>message</th>\n",
       "      <th>binary_sentiment</th>\n",
       "      <th>sentiment</th>\n",
       "      <th>respond</th>\n",
       "    </tr>\n",
       "  </thead>\n",
       "  <tbody>\n",
       "    <tr>\n",
       "      <th>109</th>\n",
       "      <td>118077</td>\n",
       "      <td>1.912596e+10</td>\n",
       "      <td>7/23/2020 0:03</td>\n",
       "      <td>I'm not seeing the 40%off at checkout.</td>\n",
       "      <td>0</td>\n",
       "      <td>1</td>\n",
       "      <td>1</td>\n",
       "    </tr>\n",
       "    <tr>\n",
       "      <th>604</th>\n",
       "      <td>597998</td>\n",
       "      <td>1.276252e+10</td>\n",
       "      <td>6/8/2020 18:34</td>\n",
       "      <td>Done, GOD Bless 🙏🏼</td>\n",
       "      <td>1</td>\n",
       "      <td>3</td>\n",
       "      <td>1</td>\n",
       "    </tr>\n",
       "    <tr>\n",
       "      <th>15</th>\n",
       "      <td>25676</td>\n",
       "      <td>1.336706e+10</td>\n",
       "      <td>7/4/2020 0:57</td>\n",
       "      <td>Hey wyd</td>\n",
       "      <td>1</td>\n",
       "      <td>2</td>\n",
       "      <td>1</td>\n",
       "    </tr>\n",
       "    <tr>\n",
       "      <th>31</th>\n",
       "      <td>42516</td>\n",
       "      <td>1.916799e+10</td>\n",
       "      <td>6/22/2020 20:47</td>\n",
       "      <td>I went to the site and acquired some items. Wh...</td>\n",
       "      <td>1</td>\n",
       "      <td>3</td>\n",
       "      <td>1</td>\n",
       "    </tr>\n",
       "    <tr>\n",
       "      <th>85</th>\n",
       "      <td>89830</td>\n",
       "      <td>1.210913e+10</td>\n",
       "      <td>7/14/2020 13:58</td>\n",
       "      <td>Henry...got a sale going now?</td>\n",
       "      <td>0</td>\n",
       "      <td>2</td>\n",
       "      <td>1</td>\n",
       "    </tr>\n",
       "  </tbody>\n",
       "</table>\n",
       "</div>"
      ],
      "text/plain": [
       "     msg_id   from_number    date_inserted  \\\n",
       "109  118077  1.912596e+10   7/23/2020 0:03   \n",
       "604  597998  1.276252e+10   6/8/2020 18:34   \n",
       "15    25676  1.336706e+10    7/4/2020 0:57   \n",
       "31    42516  1.916799e+10  6/22/2020 20:47   \n",
       "85    89830  1.210913e+10  7/14/2020 13:58   \n",
       "\n",
       "                                               message  binary_sentiment  \\\n",
       "109             I'm not seeing the 40%off at checkout.                 0   \n",
       "604                                 Done, GOD Bless 🙏🏼                 1   \n",
       "15                                             Hey wyd                 1   \n",
       "31   I went to the site and acquired some items. Wh...                 1   \n",
       "85                       Henry...got a sale going now?                 0   \n",
       "\n",
       "     sentiment  respond  \n",
       "109          1        1  \n",
       "604          3        1  \n",
       "15           2        1  \n",
       "31           3        1  \n",
       "85           2        1  "
      ]
     },
     "execution_count": 2,
     "metadata": {},
     "output_type": "execute_result"
    }
   ],
   "source": [
    "data = pd.read_csv('data/sentiment_data.csv', sep=',', header=0)\n",
    "data = data.sample(frac=1)\n",
    "data.head()"
   ]
  },
  {
   "cell_type": "code",
   "execution_count": 3,
   "metadata": {},
   "outputs": [],
   "source": [
    "def clean_msg(msg):\n",
    "    msg = BeautifulSoup(msg, \"lxml\").get_text()\n",
    "    # Removing the URL links\n",
    "    msg = re.sub(r\"https?://[A-Za-z0-9./]+\", ' ', msg)\n",
    "    # Keeping only letters\n",
    "    msg = re.sub(r\"[^a-zA-Z.!?']\", ' ', msg)\n",
    "    # Removing additional whitespaces\n",
    "    msg = re.sub(r\" +\", ' ', msg)\n",
    "    return msg"
   ]
  },
  {
   "cell_type": "code",
   "execution_count": 4,
   "metadata": {},
   "outputs": [],
   "source": [
    "# train_size = int(len(data)/2)\n",
    "messages = [clean_msg(msg) for msg in data['message']]\n",
    "train_size = int(len(messages)/2)\n",
    "train_msg = messages[:train_size]\n",
    "test_msg = messages[train_size:]\n",
    "\n",
    "# filtered_msg = [i for i, msg in enumerate(messages) if len(msg) > 0]\n",
    "# train_size = int(len(filtered_msg)/2)\n",
    "# train_msg = [messages[i] for i in filtered_msg[:train_size]]\n",
    "# test_msg = [messages[i] for i in filtered_msg[train_size:]]\n",
    "\n",
    "vectorizer = TfidfVectorizer()\n",
    "vectorizer.fit(train_msg)\n",
    "trans_train_msg = vectorizer.transform(train_msg)\n",
    "trans_test_msg = vectorizer.transform(test_msg)"
   ]
  },
  {
   "cell_type": "code",
   "execution_count": 5,
   "metadata": {
    "scrolled": true
   },
   "outputs": [
    {
     "name": "stdout",
     "output_type": "stream",
     "text": [
      "Accuracy: 0.5943600867678959\n"
     ]
    }
   ],
   "source": [
    "binary_sent = data['binary_sentiment']\n",
    "train_bin_sent = binary_sent[:train_size]\n",
    "test_bin_sent = binary_sent[train_size:]\n",
    "\n",
    "# train_bin_sent = [binary_sent[i] for i in filtered_msg[:train_size]]\n",
    "# test_bin_sent = [binary_sent[i] for i in filtered_msg[train_size:]]\n",
    "\n",
    "binary_model = KMeans(n_clusters=2, init='k-means++')\n",
    "binary_model.fit(trans_train_msg)\n",
    "prediction = binary_model.predict(trans_test_msg)\n",
    "print(\"Accuracy: {}\".format(accuracy_score(test_bin_sent, prediction)))\n",
    "# print(prediction)\n",
    "# print(test_bin_sent)"
   ]
  },
  {
   "cell_type": "code",
   "execution_count": 6,
   "metadata": {},
   "outputs": [
    {
     "name": "stdout",
     "output_type": "stream",
     "text": [
      "Accuracy: 0.06073752711496746\n"
     ]
    }
   ],
   "source": [
    "sentiment = data['sentiment']\n",
    "train_sent = sentiment[:train_size]\n",
    "test_sent = sentiment[train_size:]\n",
    "\n",
    "# train_sent = [sentiment[i] for i in filtered_msg[:train_size]]\n",
    "# test_sent = [sentiment[i] for i in filtered_msg[train_size:]]\n",
    "\n",
    "sentiment_model = KMeans(n_clusters=3, init='k-means++')\n",
    "sentiment_model.fit(trans_train_msg)\n",
    "prediction = sentiment_model.predict(trans_test_msg)\n",
    "print(\"Accuracy: {}\".format(accuracy_score(test_sent, prediction)))\n",
    "# print(prediction)\n",
    "# print(test_sent)"
   ]
  },
  {
   "cell_type": "code",
   "execution_count": 7,
   "metadata": {},
   "outputs": [
    {
     "name": "stdout",
     "output_type": "stream",
     "text": [
      "Accuracy: 0.613882863340564\n"
     ]
    }
   ],
   "source": [
    "binary_resp = data['respond']\n",
    "train_bin_resp = binary_resp[:train_size]\n",
    "test_bin_resp = binary_resp[train_size:]\n",
    "\n",
    "# train_bin_resp = [binary_sent[i] for i in filtered_msg[:train_size]]\n",
    "# test_bin_resp = [binary_sent[i] for i in filtered_msg[train_size:]]\n",
    "\n",
    "resp_model = KMeans(n_clusters=2, init='k-means++')\n",
    "resp_model.fit(trans_train_msg)\n",
    "prediction = resp_model.predict(trans_test_msg)\n",
    "print(\"Accuracy: {}\".format(accuracy_score(test_bin_resp, prediction)))\n",
    "# print(prediction)\n",
    "# print(test_bin_sent)"
   ]
  }
 ],
 "metadata": {
  "kernelspec": {
   "display_name": "Python 3",
   "language": "python",
   "name": "python3"
  },
  "language_info": {
   "codemirror_mode": {
    "name": "ipython",
    "version": 3
   },
   "file_extension": ".py",
   "mimetype": "text/x-python",
   "name": "python",
   "nbconvert_exporter": "python",
   "pygments_lexer": "ipython3",
   "version": "3.7.7"
  }
 },
 "nbformat": 4,
 "nbformat_minor": 4
}
