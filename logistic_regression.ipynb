{
 "cells": [
  {
   "cell_type": "code",
   "execution_count": 1,
   "metadata": {},
   "outputs": [],
   "source": [
    "from sklearn.feature_extraction.text import TfidfVectorizer\n",
    "from sklearn.cluster import KMeans\n",
    "from sklearn.linear_model import LogisticRegression\n",
    "from sklearn.metrics import accuracy_score\n",
    "import pandas as pd\n",
    "from bs4 import BeautifulSoup\n",
    "import re\n",
    "import matplotlib.pyplot as plt"
   ]
  },
  {
   "cell_type": "code",
   "execution_count": 2,
   "metadata": {},
   "outputs": [
    {
     "data": {
      "text/html": [
       "<div>\n",
       "<style scoped>\n",
       "    .dataframe tbody tr th:only-of-type {\n",
       "        vertical-align: middle;\n",
       "    }\n",
       "\n",
       "    .dataframe tbody tr th {\n",
       "        vertical-align: top;\n",
       "    }\n",
       "\n",
       "    .dataframe thead th {\n",
       "        text-align: right;\n",
       "    }\n",
       "</style>\n",
       "<table border=\"1\" class=\"dataframe\">\n",
       "  <thead>\n",
       "    <tr style=\"text-align: right;\">\n",
       "      <th></th>\n",
       "      <th>msg_id</th>\n",
       "      <th>from_number</th>\n",
       "      <th>date_inserted</th>\n",
       "      <th>message</th>\n",
       "      <th>binary_sentiment</th>\n",
       "      <th>sentiment</th>\n",
       "      <th>respond</th>\n",
       "    </tr>\n",
       "  </thead>\n",
       "  <tbody>\n",
       "    <tr>\n",
       "      <th>873</th>\n",
       "      <td>366952</td>\n",
       "      <td>NaN</td>\n",
       "      <td>NaN</td>\n",
       "      <td>YTKzck</td>\n",
       "      <td>0</td>\n",
       "      <td>2</td>\n",
       "      <td>0</td>\n",
       "    </tr>\n",
       "    <tr>\n",
       "      <th>349</th>\n",
       "      <td>331763</td>\n",
       "      <td>1.917916e+10</td>\n",
       "      <td>7/9/2020 21:02</td>\n",
       "      <td>I don't see the 35%off in my cart is there a c...</td>\n",
       "      <td>0</td>\n",
       "      <td>1</td>\n",
       "      <td>1</td>\n",
       "    </tr>\n",
       "    <tr>\n",
       "      <th>510</th>\n",
       "      <td>484325</td>\n",
       "      <td>1.912329e+10</td>\n",
       "      <td>7/19/2020 21:06</td>\n",
       "      <td>UUGATL</td>\n",
       "      <td>0</td>\n",
       "      <td>2</td>\n",
       "      <td>0</td>\n",
       "    </tr>\n",
       "    <tr>\n",
       "      <th>742</th>\n",
       "      <td>77326</td>\n",
       "      <td>NaN</td>\n",
       "      <td>NaN</td>\n",
       "      <td>You got it</td>\n",
       "      <td>1</td>\n",
       "      <td>3</td>\n",
       "      <td>0</td>\n",
       "    </tr>\n",
       "    <tr>\n",
       "      <th>864</th>\n",
       "      <td>339151</td>\n",
       "      <td>NaN</td>\n",
       "      <td>NaN</td>\n",
       "      <td>Ok</td>\n",
       "      <td>0</td>\n",
       "      <td>2</td>\n",
       "      <td>0</td>\n",
       "    </tr>\n",
       "  </tbody>\n",
       "</table>\n",
       "</div>"
      ],
      "text/plain": [
       "     msg_id   from_number    date_inserted  \\\n",
       "873  366952           NaN              NaN   \n",
       "349  331763  1.917916e+10   7/9/2020 21:02   \n",
       "510  484325  1.912329e+10  7/19/2020 21:06   \n",
       "742   77326           NaN              NaN   \n",
       "864  339151           NaN              NaN   \n",
       "\n",
       "                                               message  binary_sentiment  \\\n",
       "873                                             YTKzck                 0   \n",
       "349  I don't see the 35%off in my cart is there a c...                 0   \n",
       "510                                             UUGATL                 0   \n",
       "742                                         You got it                 1   \n",
       "864                                                 Ok                 0   \n",
       "\n",
       "     sentiment  respond  \n",
       "873          2        0  \n",
       "349          1        1  \n",
       "510          2        0  \n",
       "742          3        0  \n",
       "864          2        0  "
      ]
     },
     "execution_count": 2,
     "metadata": {},
     "output_type": "execute_result"
    }
   ],
   "source": [
    "data = pd.read_csv('data/sentiment_data.csv', sep=',', header=0)\n",
    "data = data.sample(frac=1)\n",
    "data.head()"
   ]
  },
  {
   "cell_type": "code",
   "execution_count": 3,
   "metadata": {},
   "outputs": [],
   "source": [
    "def clean_msg(msg):\n",
    "    msg = BeautifulSoup(msg, \"lxml\").get_text()\n",
    "    # Removing the URL links\n",
    "    msg = re.sub(r\"https?://[A-Za-z0-9./]+\", ' ', msg)\n",
    "    # Keeping only letters\n",
    "    msg = re.sub(r\"[^a-zA-Z.!?']\", ' ', msg)\n",
    "    # Removing additional whitespaces\n",
    "    msg = re.sub(r\" +\", ' ', msg)\n",
    "    return msg"
   ]
  },
  {
   "cell_type": "code",
   "execution_count": 4,
   "metadata": {},
   "outputs": [],
   "source": [
    "messages = [clean_msg(msg) for msg in data['message']]\n",
    "train_size = int(len(messages)/2)\n",
    "train_msg = messages[:train_size]\n",
    "test_msg = messages[train_size:]\n",
    "\n",
    "# filtered_msg = [i for i, msg in enumerate(messages)]\n",
    "# train_size = int(len(filtered_msg)/2)\n",
    "# train_msg = [messages[i] for i in filtered_msg[:train_size]]\n",
    "# test_msg = [messages[i] for i in filtered_msg[train_size:]]\n",
    "\n",
    "vectorizer = TfidfVectorizer()\n",
    "vectorizer.fit(train_msg)\n",
    "trans_train_msg = vectorizer.transform(train_msg)\n",
    "trans_test_msg = vectorizer.transform(test_msg)"
   ]
  },
  {
   "cell_type": "code",
   "execution_count": 5,
   "metadata": {},
   "outputs": [
    {
     "name": "stdout",
     "output_type": "stream",
     "text": [
      "Accuracy: 0.806941431670282\n"
     ]
    }
   ],
   "source": [
    "binary_sent = data['binary_sentiment']\n",
    "train_bin_sent = binary_sent[:train_size]\n",
    "test_bin_sent = binary_sent[train_size:]\n",
    "\n",
    "# train_bin_sent = [binary_sent[i] for i in filtered_msg[:train_size]]\n",
    "# test_bin_sent = [binary_sent[i] for i in filtered_msg[train_size:]]\n",
    "\n",
    "binary_model = LogisticRegression()\n",
    "binary_model.fit(trans_train_msg, train_bin_sent)\n",
    "prediction = binary_model.predict(trans_test_msg)\n",
    "print(\"Accuracy: {}\".format(accuracy_score(test_bin_sent, prediction)))\n",
    "# print(prediction)\n",
    "# print(test_bin_sent)"
   ]
  },
  {
   "cell_type": "code",
   "execution_count": 6,
   "metadata": {},
   "outputs": [
    {
     "name": "stdout",
     "output_type": "stream",
     "text": [
      "Accuracy: 0.7418655097613883\n"
     ]
    }
   ],
   "source": [
    "sentiment = data['sentiment']\n",
    "train_sent = sentiment[:train_size]\n",
    "test_sent = sentiment[train_size:]\n",
    "\n",
    "# train_sent = [sentiment[i] for i in filtered_msg[:train_size]]\n",
    "# test_sent = [sentiment[i] for i in filtered_msg[train_size:]]\n",
    "\n",
    "sentiment_model = LogisticRegression()\n",
    "sentiment_model.fit(trans_train_msg, train_sent)\n",
    "prediction = sentiment_model.predict(trans_test_msg)\n",
    "print(\"Accuracy: {}\".format(accuracy_score(test_sent, prediction)))\n",
    "# print(prediction)\n",
    "# print(test_sent)"
   ]
  },
  {
   "cell_type": "code",
   "execution_count": 7,
   "metadata": {},
   "outputs": [
    {
     "name": "stdout",
     "output_type": "stream",
     "text": [
      "Accuracy: 0.8524945770065075\n"
     ]
    }
   ],
   "source": [
    "binary_resp = data['respond']\n",
    "train_bin_resp = binary_resp[:train_size]\n",
    "test_bin_resp = binary_resp[train_size:]\n",
    "\n",
    "# train_bin_resp = [binary_sent[i] for i in filtered_msg[:train_size]]\n",
    "# test_bin_resp = [binary_sent[i] for i in filtered_msg[train_size:]]\n",
    "\n",
    "resp_model = LogisticRegression()\n",
    "resp_model.fit(trans_train_msg, train_bin_resp)\n",
    "prediction = resp_model.predict(trans_test_msg)\n",
    "print(\"Accuracy: {}\".format(accuracy_score(test_bin_resp, prediction)))\n",
    "# print(prediction)\n",
    "# print(test_bin_sent)"
   ]
  }
 ],
 "metadata": {
  "kernelspec": {
   "display_name": "Python 3",
   "language": "python",
   "name": "python3"
  },
  "language_info": {
   "codemirror_mode": {
    "name": "ipython",
    "version": 3
   },
   "file_extension": ".py",
   "mimetype": "text/x-python",
   "name": "python",
   "nbconvert_exporter": "python",
   "pygments_lexer": "ipython3",
   "version": "3.7.7"
  }
 },
 "nbformat": 4,
 "nbformat_minor": 4
}
